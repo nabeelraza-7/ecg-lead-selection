{
 "cells": [
  {
   "cell_type": "code",
   "execution_count": 1,
   "id": "adf81cfc",
   "metadata": {},
   "outputs": [],
   "source": [
    "import os\n",
    "\n",
    "import wfdb\n",
    "import numpy as np\n",
    "import matplotlib.pyplot as plt\n",
    "import pandas as pd"
   ]
  },
  {
   "cell_type": "code",
   "execution_count": 3,
   "id": "d58970d5",
   "metadata": {},
   "outputs": [],
   "source": [
    "dataset_loc = \"../ptb-xl\"\n",
    "# !ls {dataset_loc}"
   ]
  },
  {
   "cell_type": "code",
   "execution_count": 4,
   "id": "eec1f9bb",
   "metadata": {},
   "outputs": [
    {
     "data": {
      "text/html": [
       "<div>\n",
       "<style scoped>\n",
       "    .dataframe tbody tr th:only-of-type {\n",
       "        vertical-align: middle;\n",
       "    }\n",
       "\n",
       "    .dataframe tbody tr th {\n",
       "        vertical-align: top;\n",
       "    }\n",
       "\n",
       "    .dataframe thead th {\n",
       "        text-align: right;\n",
       "    }\n",
       "</style>\n",
       "<table border=\"1\" class=\"dataframe\">\n",
       "  <thead>\n",
       "    <tr style=\"text-align: right;\">\n",
       "      <th></th>\n",
       "      <th>ecg_id</th>\n",
       "      <th>patient_id</th>\n",
       "      <th>age</th>\n",
       "      <th>sex</th>\n",
       "      <th>strat_fold</th>\n",
       "      <th>filename_lr</th>\n",
       "      <th>filename_hr</th>\n",
       "      <th>NORM</th>\n",
       "      <th>MI</th>\n",
       "      <th>STTC</th>\n",
       "      <th>CD</th>\n",
       "      <th>HYP</th>\n",
       "    </tr>\n",
       "  </thead>\n",
       "  <tbody>\n",
       "    <tr>\n",
       "      <th>0</th>\n",
       "      <td>1</td>\n",
       "      <td>15709.0</td>\n",
       "      <td>56.0</td>\n",
       "      <td>1</td>\n",
       "      <td>3</td>\n",
       "      <td>records100/00000/00001_lr</td>\n",
       "      <td>records500/00000/00001_hr</td>\n",
       "      <td>1</td>\n",
       "      <td>0</td>\n",
       "      <td>0</td>\n",
       "      <td>0</td>\n",
       "      <td>0</td>\n",
       "    </tr>\n",
       "    <tr>\n",
       "      <th>1</th>\n",
       "      <td>2</td>\n",
       "      <td>13243.0</td>\n",
       "      <td>19.0</td>\n",
       "      <td>0</td>\n",
       "      <td>2</td>\n",
       "      <td>records100/00000/00002_lr</td>\n",
       "      <td>records500/00000/00002_hr</td>\n",
       "      <td>1</td>\n",
       "      <td>0</td>\n",
       "      <td>0</td>\n",
       "      <td>0</td>\n",
       "      <td>0</td>\n",
       "    </tr>\n",
       "    <tr>\n",
       "      <th>2</th>\n",
       "      <td>3</td>\n",
       "      <td>20372.0</td>\n",
       "      <td>37.0</td>\n",
       "      <td>1</td>\n",
       "      <td>5</td>\n",
       "      <td>records100/00000/00003_lr</td>\n",
       "      <td>records500/00000/00003_hr</td>\n",
       "      <td>1</td>\n",
       "      <td>0</td>\n",
       "      <td>0</td>\n",
       "      <td>0</td>\n",
       "      <td>0</td>\n",
       "    </tr>\n",
       "    <tr>\n",
       "      <th>3</th>\n",
       "      <td>4</td>\n",
       "      <td>17014.0</td>\n",
       "      <td>24.0</td>\n",
       "      <td>0</td>\n",
       "      <td>3</td>\n",
       "      <td>records100/00000/00004_lr</td>\n",
       "      <td>records500/00000/00004_hr</td>\n",
       "      <td>1</td>\n",
       "      <td>0</td>\n",
       "      <td>0</td>\n",
       "      <td>0</td>\n",
       "      <td>0</td>\n",
       "    </tr>\n",
       "    <tr>\n",
       "      <th>4</th>\n",
       "      <td>5</td>\n",
       "      <td>17448.0</td>\n",
       "      <td>19.0</td>\n",
       "      <td>1</td>\n",
       "      <td>4</td>\n",
       "      <td>records100/00000/00005_lr</td>\n",
       "      <td>records500/00000/00005_hr</td>\n",
       "      <td>1</td>\n",
       "      <td>0</td>\n",
       "      <td>0</td>\n",
       "      <td>0</td>\n",
       "      <td>0</td>\n",
       "    </tr>\n",
       "    <tr>\n",
       "      <th>...</th>\n",
       "      <td>...</td>\n",
       "      <td>...</td>\n",
       "      <td>...</td>\n",
       "      <td>...</td>\n",
       "      <td>...</td>\n",
       "      <td>...</td>\n",
       "      <td>...</td>\n",
       "      <td>...</td>\n",
       "      <td>...</td>\n",
       "      <td>...</td>\n",
       "      <td>...</td>\n",
       "      <td>...</td>\n",
       "    </tr>\n",
       "    <tr>\n",
       "      <th>21383</th>\n",
       "      <td>21833</td>\n",
       "      <td>17180.0</td>\n",
       "      <td>67.0</td>\n",
       "      <td>1</td>\n",
       "      <td>7</td>\n",
       "      <td>records100/21000/21833_lr</td>\n",
       "      <td>records500/21000/21833_hr</td>\n",
       "      <td>0</td>\n",
       "      <td>0</td>\n",
       "      <td>1</td>\n",
       "      <td>0</td>\n",
       "      <td>0</td>\n",
       "    </tr>\n",
       "    <tr>\n",
       "      <th>21384</th>\n",
       "      <td>21834</td>\n",
       "      <td>20703.0</td>\n",
       "      <td>300.0</td>\n",
       "      <td>0</td>\n",
       "      <td>4</td>\n",
       "      <td>records100/21000/21834_lr</td>\n",
       "      <td>records500/21000/21834_hr</td>\n",
       "      <td>1</td>\n",
       "      <td>0</td>\n",
       "      <td>0</td>\n",
       "      <td>0</td>\n",
       "      <td>0</td>\n",
       "    </tr>\n",
       "    <tr>\n",
       "      <th>21385</th>\n",
       "      <td>21835</td>\n",
       "      <td>19311.0</td>\n",
       "      <td>59.0</td>\n",
       "      <td>1</td>\n",
       "      <td>2</td>\n",
       "      <td>records100/21000/21835_lr</td>\n",
       "      <td>records500/21000/21835_hr</td>\n",
       "      <td>0</td>\n",
       "      <td>0</td>\n",
       "      <td>1</td>\n",
       "      <td>0</td>\n",
       "      <td>0</td>\n",
       "    </tr>\n",
       "    <tr>\n",
       "      <th>21386</th>\n",
       "      <td>21836</td>\n",
       "      <td>8873.0</td>\n",
       "      <td>64.0</td>\n",
       "      <td>1</td>\n",
       "      <td>8</td>\n",
       "      <td>records100/21000/21836_lr</td>\n",
       "      <td>records500/21000/21836_hr</td>\n",
       "      <td>1</td>\n",
       "      <td>0</td>\n",
       "      <td>0</td>\n",
       "      <td>0</td>\n",
       "      <td>0</td>\n",
       "    </tr>\n",
       "    <tr>\n",
       "      <th>21387</th>\n",
       "      <td>21837</td>\n",
       "      <td>11744.0</td>\n",
       "      <td>68.0</td>\n",
       "      <td>0</td>\n",
       "      <td>9</td>\n",
       "      <td>records100/21000/21837_lr</td>\n",
       "      <td>records500/21000/21837_hr</td>\n",
       "      <td>1</td>\n",
       "      <td>0</td>\n",
       "      <td>0</td>\n",
       "      <td>0</td>\n",
       "      <td>0</td>\n",
       "    </tr>\n",
       "  </tbody>\n",
       "</table>\n",
       "<p>21388 rows × 12 columns</p>\n",
       "</div>"
      ],
      "text/plain": [
       "       ecg_id  patient_id    age  sex  strat_fold                filename_lr  \\\n",
       "0           1     15709.0   56.0    1           3  records100/00000/00001_lr   \n",
       "1           2     13243.0   19.0    0           2  records100/00000/00002_lr   \n",
       "2           3     20372.0   37.0    1           5  records100/00000/00003_lr   \n",
       "3           4     17014.0   24.0    0           3  records100/00000/00004_lr   \n",
       "4           5     17448.0   19.0    1           4  records100/00000/00005_lr   \n",
       "...       ...         ...    ...  ...         ...                        ...   \n",
       "21383   21833     17180.0   67.0    1           7  records100/21000/21833_lr   \n",
       "21384   21834     20703.0  300.0    0           4  records100/21000/21834_lr   \n",
       "21385   21835     19311.0   59.0    1           2  records100/21000/21835_lr   \n",
       "21386   21836      8873.0   64.0    1           8  records100/21000/21836_lr   \n",
       "21387   21837     11744.0   68.0    0           9  records100/21000/21837_lr   \n",
       "\n",
       "                     filename_hr  NORM  MI  STTC  CD  HYP  \n",
       "0      records500/00000/00001_hr     1   0     0   0    0  \n",
       "1      records500/00000/00002_hr     1   0     0   0    0  \n",
       "2      records500/00000/00003_hr     1   0     0   0    0  \n",
       "3      records500/00000/00004_hr     1   0     0   0    0  \n",
       "4      records500/00000/00005_hr     1   0     0   0    0  \n",
       "...                          ...   ...  ..   ...  ..  ...  \n",
       "21383  records500/21000/21833_hr     0   0     1   0    0  \n",
       "21384  records500/21000/21834_hr     1   0     0   0    0  \n",
       "21385  records500/21000/21835_hr     0   0     1   0    0  \n",
       "21386  records500/21000/21836_hr     1   0     0   0    0  \n",
       "21387  records500/21000/21837_hr     1   0     0   0    0  \n",
       "\n",
       "[21388 rows x 12 columns]"
      ]
     },
     "execution_count": 4,
     "metadata": {},
     "output_type": "execute_result"
    }
   ],
   "source": [
    "df = pd.read_csv(os.path.join(dataset_loc, \"labeled_df.csv\"))\n",
    "df"
   ]
  },
  {
   "cell_type": "code",
   "execution_count": 6,
   "id": "0086a9b1",
   "metadata": {},
   "outputs": [
    {
     "data": {
      "text/plain": [
       "0        ../ptb-xl/records100/00000/00001_lr\n",
       "1        ../ptb-xl/records100/00000/00002_lr\n",
       "2        ../ptb-xl/records100/00000/00003_lr\n",
       "3        ../ptb-xl/records100/00000/00004_lr\n",
       "4        ../ptb-xl/records100/00000/00005_lr\n",
       "                        ...                 \n",
       "21383    ../ptb-xl/records100/21000/21833_lr\n",
       "21384    ../ptb-xl/records100/21000/21834_lr\n",
       "21385    ../ptb-xl/records100/21000/21835_lr\n",
       "21386    ../ptb-xl/records100/21000/21836_lr\n",
       "21387    ../ptb-xl/records100/21000/21837_lr\n",
       "Name: filename_lr, Length: 21388, dtype: object"
      ]
     },
     "execution_count": 6,
     "metadata": {},
     "output_type": "execute_result"
    }
   ],
   "source": [
    "files = dataset_loc + \"/\" + df[\"filename_lr\"]\n",
    "files"
   ]
  },
  {
   "cell_type": "code",
   "execution_count": 11,
   "id": "ba88ad03",
   "metadata": {},
   "outputs": [],
   "source": [
    "def read_record(path):\n",
    "    signal, metadata = wfdb.rdsamp(path)\n",
    "    return signal.T.astype(np.float32)"
   ]
  },
  {
   "cell_type": "code",
   "execution_count": 13,
   "id": "d8b08fde",
   "metadata": {},
   "outputs": [],
   "source": [
    "file_storage = [read_record(path) for path in files]"
   ]
  },
  {
   "cell_type": "code",
   "execution_count": 14,
   "id": "ba769f6b",
   "metadata": {},
   "outputs": [
    {
     "data": {
      "text/plain": [
       "(21388, 12, 1000)"
      ]
     },
     "execution_count": 14,
     "metadata": {},
     "output_type": "execute_result"
    }
   ],
   "source": [
    "file_stack = np.stack(file_storage)\n",
    "file_stack.shape"
   ]
  },
  {
   "cell_type": "code",
   "execution_count": 17,
   "id": "9db161b9",
   "metadata": {},
   "outputs": [],
   "source": [
    "np.savez_compressed(os.path.join(dataset_loc, \"100_hz.npz\"), file_stack)"
   ]
  },
  {
   "cell_type": "code",
   "execution_count": 18,
   "id": "6caa91e1",
   "metadata": {},
   "outputs": [
    {
     "data": {
      "text/plain": [
       "0"
      ]
     },
     "execution_count": 18,
     "metadata": {},
     "output_type": "execute_result"
    }
   ],
   "source": [
    "import gc\n",
    "gc.collect()"
   ]
  },
  {
   "cell_type": "code",
   "execution_count": null,
   "id": "3b96c963",
   "metadata": {},
   "outputs": [],
   "source": []
  }
 ],
 "metadata": {
  "kernelspec": {
   "display_name": "Python 3 (ipykernel)",
   "language": "python",
   "name": "python3"
  },
  "language_info": {
   "codemirror_mode": {
    "name": "ipython",
    "version": 3
   },
   "file_extension": ".py",
   "mimetype": "text/x-python",
   "name": "python",
   "nbconvert_exporter": "python",
   "pygments_lexer": "ipython3",
   "version": "3.10.4"
  },
  "toc": {
   "base_numbering": 1,
   "nav_menu": {},
   "number_sections": true,
   "sideBar": true,
   "skip_h1_title": false,
   "title_cell": "Table of Contents",
   "title_sidebar": "Contents",
   "toc_cell": false,
   "toc_position": {},
   "toc_section_display": true,
   "toc_window_display": false
  }
 },
 "nbformat": 4,
 "nbformat_minor": 5
}
